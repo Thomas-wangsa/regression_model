{
 "cells": [
  {
   "cell_type": "code",
   "execution_count": 76,
   "metadata": {},
   "outputs": [],
   "source": [
    "import numpy as np\n",
    "import pandas as pd\n",
    "\n",
    "from sklearn.linear_model import LinearRegression,Ridge,Lasso\n",
    "from sklearn.svm import SVR\n",
    "from xgboost import XGBRegressor\n",
    "\n",
    "from sklearn.metrics import r2_score\n",
    "from sklearn.metrics import mean_absolute_error as MAE\n",
    "from math import sqrt"
   ]
  },
  {
   "cell_type": "code",
   "execution_count": 77,
   "metadata": {},
   "outputs": [],
   "source": [
    "train_raw = pd.read_csv(\"train_raw.csv\")\n",
    "test_raw = pd.read_csv(\"test_raw.csv\")\n",
    "\n",
    "\n",
    "X_train = train_raw.loc[:, train_raw.columns != 'target']\n",
    "Y_train = train_raw.loc[:, train_raw.columns == 'target']\n",
    "\n",
    "X_test = test_raw.loc[:, test_raw.columns != 'target']\n",
    "Y_test = test_raw.loc[:, test_raw.columns == 'target']"
   ]
  },
  {
   "cell_type": "code",
   "execution_count": 82,
   "metadata": {},
   "outputs": [],
   "source": [
    "selected_model = {\n",
    "    \"LinearRegression\" : LinearRegression(),\n",
    "    \"Ridge\" : Ridge(),\n",
    "    \"Lasso\" : Lasso(),\n",
    "    \"XGBRegressor\" : XGBRegressor(),\n",
    "    \"SVM\" : SVR(),\n",
    "    \n",
    "}"
   ]
  },
  {
   "cell_type": "code",
   "execution_count": 83,
   "metadata": {},
   "outputs": [],
   "source": [
    "def model_evaluate() :\n",
    "    \n",
    "    for model_name,model_value in selected_model.items() :\n",
    "        model = model_value\n",
    "        model.fit(X_train,Y_train)\n",
    "        target_predicted = model.predict(X_test)\n",
    "        \n",
    "        mae_result = MAE(Y_test[\"target\"], target_predicted)\n",
    "        rms_result = sqrt(mae_result)\n",
    "        r2_score_result = r2_score(Y_test[\"target\"], target_predicted)\n",
    "        \n",
    "        print(model_name,\" : \", r2_score_result)\n",
    "\n",
    "    "
   ]
  },
  {
   "cell_type": "code",
   "execution_count": 84,
   "metadata": {},
   "outputs": [
    {
     "name": "stdout",
     "output_type": "stream",
     "text": [
      "SVM  :  0.20335218627402285\n",
      "XGBRegressor  :  0.8709393218260175\n",
      "Ridge  :  0.6991137072449387\n",
      "LinearRegression  :  0.7048540634487632\n",
      "Lasso  :  0.6574377756676814\n"
     ]
    },
    {
     "name": "stderr",
     "output_type": "stream",
     "text": [
      "/home/thomas/Downloads/venv/lib/python3.5/site-packages/sklearn/utils/validation.py:760: DataConversionWarning: A column-vector y was passed when a 1d array was expected. Please change the shape of y to (n_samples, ), for example using ravel().\n",
      "  y = column_or_1d(y, warn=True)\n"
     ]
    }
   ],
   "source": [
    "model_evaluate()"
   ]
  },
  {
   "cell_type": "code",
   "execution_count": null,
   "metadata": {},
   "outputs": [],
   "source": []
  }
 ],
 "metadata": {
  "kernelspec": {
   "display_name": "Python 3",
   "language": "python",
   "name": "python3"
  },
  "language_info": {
   "codemirror_mode": {
    "name": "ipython",
    "version": 3
   },
   "file_extension": ".py",
   "mimetype": "text/x-python",
   "name": "python",
   "nbconvert_exporter": "python",
   "pygments_lexer": "ipython3",
   "version": "3.5.2"
  }
 },
 "nbformat": 4,
 "nbformat_minor": 4
}
